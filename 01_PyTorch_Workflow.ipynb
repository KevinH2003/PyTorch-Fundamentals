{
  "nbformat": 4,
  "nbformat_minor": 0,
  "metadata": {
    "colab": {
      "provenance": [],
      "authorship_tag": "ABX9TyO7sTEW1Nw+pfv4hkWa3/ZL",
      "include_colab_link": true
    },
    "kernelspec": {
      "name": "python3",
      "display_name": "Python 3"
    },
    "language_info": {
      "name": "python"
    }
  },
  "cells": [
    {
      "cell_type": "markdown",
      "metadata": {
        "id": "view-in-github",
        "colab_type": "text"
      },
      "source": [
        "<a href=\"https://colab.research.google.com/github/KevinH2003/PyTorch-Fundamentals/blob/main/01_PyTorch_Workflow.ipynb\" target=\"_parent\"><img src=\"https://colab.research.google.com/assets/colab-badge.svg\" alt=\"Open In Colab\"/></a>"
      ]
    },
    {
      "cell_type": "code",
      "execution_count": 8,
      "metadata": {
        "id": "MBi-4Umtibf1"
      },
      "outputs": [],
      "source": [
        "#PyTorch Workflow\n",
        "import torch\n",
        "from torch import nn\n",
        "import matplotlib.pyplot as plt\n",
        "\n",
        "weight = 0.5\n",
        "bias = 10\n",
        "\n",
        "start = -10\n",
        "end = 10\n",
        "step = 0.2\n",
        "x = torch.arange(start, end, step).unsqueeze(1)\n",
        "y = weight * x + bias\n",
        "#hiii"
      ]
    },
    {
      "cell_type": "code",
      "source": [
        "training = int(0.7 * len(x))\n",
        "xtraining, ytraining = x[:training], y[:training]\n",
        "xtesting, ytesting = x[training:], y[training:]\n",
        "\n",
        "def plot_predictions(train_data=xtraining, train_labels=xtraining, test_data=xtesting, test_labels=ytesting, predictions=None):\n",
        "  \"\"\"Plots training, test, and predictions\"\"\"\n"
      ],
      "metadata": {
        "colab": {
          "base_uri": "https://localhost:8080/"
        },
        "id": "_iyhXU3xlEtC",
        "outputId": "2c2fa1bd-a09b-4deb-d519-c98b9b9dd37d"
      },
      "execution_count": 9,
      "outputs": [
        {
          "output_type": "execute_result",
          "data": {
            "text/plain": [
              "(70, 30)"
            ]
          },
          "metadata": {},
          "execution_count": 9
        }
      ]
    }
  ]
}