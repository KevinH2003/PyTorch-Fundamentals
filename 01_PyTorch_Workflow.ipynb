{
  "nbformat": 4,
  "nbformat_minor": 0,
  "metadata": {
    "colab": {
      "provenance": [],
      "authorship_tag": "ABX9TyM0AizW3CHM97ZWxiIDzWHq",
      "include_colab_link": true
    },
    "kernelspec": {
      "name": "python3",
      "display_name": "Python 3"
    },
    "language_info": {
      "name": "python"
    }
  },
  "cells": [
    {
      "cell_type": "markdown",
      "metadata": {
        "id": "view-in-github",
        "colab_type": "text"
      },
      "source": [
        "<a href=\"https://colab.research.google.com/github/KevinH2003/PyTorch-Fundamentals/blob/main/01_PyTorch_Workflow.ipynb\" target=\"_parent\"><img src=\"https://colab.research.google.com/assets/colab-badge.svg\" alt=\"Open In Colab\"/></a>"
      ]
    },
    {
      "cell_type": "code",
      "execution_count": 1,
      "metadata": {
        "id": "MBi-4Umtibf1"
      },
      "outputs": [],
      "source": [
        "#PyTorch Workflow\n",
        "import torch\n",
        "from torch import nn\n",
        "import matplotlib.pyplot as plt\n",
        "\n",
        "weight = 0.5\n",
        "bias = 10\n",
        "\n",
        "start = -10\n",
        "end = 10\n",
        "step = 0.2\n",
        "x = torch.arange(start, end, step).unsqueeze(1)\n",
        "y = weight * x + bias\n",
        "#hiii"
      ]
    },
    {
      "cell_type": "code",
      "source": [
        "training = int(0.7 * len(x))\n",
        "xtraining, ytraining = x[:training], y[:training]\n",
        "xtesting, ytesting = x[training:], y[training:]\n",
        "\n",
        "def plot_predictions(train_data=xtraining, train_labels=ytraining, test_data=xtesting, test_labels=ytesting, predictions=None):\n",
        "  \"\"\"Plots training, test, and predictions\"\"\"\n",
        "  plt.figure(figsize=(10, 7))\n",
        "\n",
        "  plt.scatter(train_data, train_labels, c=\"b\", s=4, label=\"Training Data\")\n",
        "  plt.scatter(test_data, test_labels, c=\"r\", s=4, label=\"Testing Data\")\n",
        "  #plot the training data in blue, testing data in red\n",
        "\n",
        "  if predictions is not None:\n",
        "    #plot the predictions if they exist\n",
        "    plt.scatter(test_data, predictions, c=\"p\", s=4, label=\"Predictions\")\n",
        "\n",
        "  plt.legend(prop={\"size\": 14})\n"
      ],
      "metadata": {
        "id": "_iyhXU3xlEtC"
      },
      "execution_count": 2,
      "outputs": []
    },
    {
      "cell_type": "code",
      "source": [
        "plot_predictions();"
      ],
      "metadata": {
        "colab": {
          "base_uri": "https://localhost:8080/",
          "height": 599
        },
        "id": "cW0Ki7aRpsqJ",
        "outputId": "781f2d99-e4fc-4f31-df67-f4a2230522ae"
      },
      "execution_count": 3,
      "outputs": [
        {
          "output_type": "display_data",
          "data": {
            "text/plain": [
              "<Figure size 1000x700 with 1 Axes>"
            ],
            "image/png": "[encoded data removed]"
          },
          "metadata": {}
        }
      ]
    },
    {
      "cell_type": "code",
      "source": [
        "class LinRegModel(nn.Module):\n",
        "  def __init__(self):\n",
        "    super().__init__()\n",
        "    self.weight = nn.Parameter(torch.randn(1, requires_grad=True, dtype=torch.float)) #start with random weight, try to get it to the ideal weight\n",
        "    self.bias = nn.Parameter(torch.randn(1, requires_grad=True, dtype=torch.float)) #start with random bias, try to get it to the ideal bias\n",
        "\n",
        "    def forward(self, x: torch.Tensor) -> torch.Tensor:\n",
        "      return self.weight * x + self.bias"
      ],
      "metadata": {
        "id": "vlynRY4XqlQ9"
      },
      "execution_count": 4,
      "outputs": []
    },
    {
      "cell_type": "code",
      "source": [
        "torch.manual_seed(42)\n",
        "\n",
        "model0 = LinRegModel()\n",
        "\n"
      ],
      "metadata": {
        "colab": {
          "base_uri": "https://localhost:8080/"
        },
        "id": "WXxI9sG8EQKJ",
        "outputId": "81587ee5-d7ac-424c-e18c-fcfd74405983"
      },
      "execution_count": 13,
      "outputs": [
        {
          "output_type": "execute_result",
          "data": {
            "text/plain": [
              "OrderedDict([('weight', tensor([0.3367])), ('bias', tensor([0.1288]))])"
            ]
          },
          "metadata": {},
          "execution_count": 13
        }
      ]
    }
  ]
}